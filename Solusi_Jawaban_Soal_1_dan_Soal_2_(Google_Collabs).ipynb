{
  "nbformat": 4,
  "nbformat_minor": 0,
  "metadata": {
    "colab": {
      "provenance": [],
      "collapsed_sections": []
    },
    "kernelspec": {
      "name": "python3",
      "display_name": "Python 3"
    },
    "language_info": {
      "name": "python"
    }
  },
  "cells": [
    {
      "cell_type": "code",
      "execution_count": 1,
      "metadata": {
        "colab": {
          "base_uri": "https://localhost:8080/"
        },
        "id": "xFcXxFY3g933",
        "outputId": "dc88dec7-2847-4950-bcc9-d8bf3b76b7b5"
      },
      "outputs": [
        {
          "output_type": "stream",
          "name": "stdout",
          "text": [
            "Jarak Fokus Lensa =  18.94736842105263 cm\n"
          ]
        }
      ],
      "source": [
        "#menampilkan hasil soal 1\n",
        "\n",
        "n = 1.5 #indeks bias medium 1\n",
        "\n",
        "R1 = 20 #cm\n",
        "R2 = 18 #cm\n",
        "\n",
        "F = (n-1)*((1/R1)+(1/R2))\n",
        "F = 1/F\n",
        "print(\"Jarak Fokus Lensa = \",F,\"cm\")"
      ]
    },
    {
      "cell_type": "code",
      "source": [
        "#menampilkan hasil soal 2\n",
        "\n",
        "import numpy as np\n",
        "import matplotlib.pyplot as plt\n",
        "\n",
        "alpha = np.radians(45)\n",
        "g = 9.8\n",
        "v0 = 10\n",
        "\n",
        "v0x = v0*np.cos(alpha)\n",
        "v0y = v0*np.sin(alpha)\n",
        "\n",
        "X = ((v0**2)*np.sin(2*alpha))/(2*g)\n",
        "print(\"Jarak Horizontal Maksimum = \",X,\" m\")\n",
        "Y = ((v0**2)*(np.sin(alpha)**2))/(2*g)\n",
        "print(\"Jarak Vertikal Maksimum = \",Y,\" m\")\n",
        "T = (2*v0*np.sin(alpha))/g\n",
        "print(\"Waktu Mencapai Jarak Horizontal Maksimum = \",T,\" s\")\n",
        "print(\"\\n\")\n",
        "\n",
        "t = np.arange(0.0, T, 0.01)\n",
        "y = v0y*t - 0.5*g*t**2\n",
        "x = v0x*t\n",
        "\n",
        "fig, ax = plt.subplots()\n",
        "ax.plot(x, y)\n",
        "ax.set(xlabel='x (m)', ylabel= 'y (m)', title='Grafik Gerak Parabola')\n",
        "ax.grid()\n",
        "plt.show()"
      ],
      "metadata": {
        "colab": {
          "base_uri": "https://localhost:8080/",
          "height": 382
        },
        "id": "UimChj5AjxP3",
        "outputId": "6bc7151a-268b-4dab-826f-1059b0f5d588"
      },
      "execution_count": 2,
      "outputs": [
        {
          "output_type": "stream",
          "name": "stdout",
          "text": [
            "Jarak Horizontal Maksimum =  5.1020408163265305  m\n",
            "Jarak Vertikal Maksimum =  2.5510204081632644  m\n",
            "Waktu Mencapai Jarak Horizontal Maksimum =  1.4430750636460152  s\n",
            "\n",
            "\n"
          ]
        },
        {
          "output_type": "display_data",
          "data": {
            "text/plain": [
              "<Figure size 432x288 with 1 Axes>"
            ],
            "image/png": "[encoded data removed]"
          },
          "metadata": {
            "needs_background": "light"
          }
        }
      ]
    }
  ]
}